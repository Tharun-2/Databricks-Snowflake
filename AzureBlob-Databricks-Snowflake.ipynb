{
 "cells": [
  {
   "cell_type": "code",
   "execution_count": 0,
   "metadata": {
    "application/vnd.databricks.v1+cell": {
     "cellMetadata": {
      "byteLimit": 2048000,
      "rowLimit": 10000
     },
     "inputWidgets": {},
     "nuid": "bf752209-fe03-4875-93a8-adc10501dd68",
     "showTitle": false,
     "tableResultSettingsMap": {},
     "title": ""
    }
   },
   "outputs": [
    {
     "output_type": "execute_result",
     "data": {
      "text/plain": [
       "True"
      ]
     },
     "execution_count": 1,
     "metadata": {},
     "output_type": "execute_result"
    }
   ],
   "source": [
    "configs = {\n",
    "    \"fs.azure.account.key.storagedatafiles**.blob.core.windows.net\": \"*********\"\n",
    "}\n",
    "\n",
    "dbutils.fs.mount(\n",
    "    source=\"wasbs://rawdata@storagedatafiles**.blob.core.windows.net/\",\n",
    "    mount_point=\"/mnt/rawdata\",\n",
    "    extra_configs=configs\n",
    ")\n"
   ]
  },
  {
   "cell_type": "code",
   "execution_count": 0,
   "metadata": {
    "application/vnd.databricks.v1+cell": {
     "cellMetadata": {
      "byteLimit": 2048000,
      "rowLimit": 10000
     },
     "inputWidgets": {},
     "nuid": "6353abc3-1c36-4b3d-a418-62f0fd3fdf78",
     "showTitle": false,
     "tableResultSettingsMap": {},
     "title": ""
    }
   },
   "outputs": [
    {
     "output_type": "execute_result",
     "data": {
      "text/plain": [
       "[FileInfo(path='dbfs:/mnt/rawdata/transformable_data.csv', name='transformable_data.csv', size=38544, modificationTime=1739870978000)]"
      ]
     },
     "execution_count": 2,
     "metadata": {},
     "output_type": "execute_result"
    }
   ],
   "source": [
    "dbutils.fs.ls(\"/mnt/rawdata\")"
   ]
  },
  {
   "cell_type": "code",
   "execution_count": 0,
   "metadata": {
    "application/vnd.databricks.v1+cell": {
     "cellMetadata": {
      "byteLimit": 2048000,
      "rowLimit": 10000
     },
     "inputWidgets": {},
     "nuid": "e2242124-22cf-4a59-85fa-b57241e7e55f",
     "showTitle": false,
     "tableResultSettingsMap": {},
     "title": ""
    }
   },
   "outputs": [
    {
     "output_type": "stream",
     "name": "stdout",
     "output_type": "stream",
     "text": [
      "+---+--------+------+----------+--------+-----------+\n| ID|Category| Value|      Date|  Status|Description|\n+---+--------+------+----------+--------+-----------+\n|  1|       C| 352.1|2022-03-26|Inactive|    Average|\n|  2|       D|272.69|2024-01-13|Inactive|    Average|\n|  3|       A|161.67|2021-03-29|Inactive|       Good|\n|  4|       C|408.76|2021-09-20|Inactive|  Excellent|\n|  5|       C|345.52|2023-05-29|  Active|    Average|\n|  6|       D| 89.68|2023-03-23|  Active|    Average|\n|  7|       A|456.35|2021-10-26|  Active|       Poor|\n|  8|       A|413.04|2020-01-12|  Active|       Good|\n|  9|       C| 475.4|2023-03-02|Inactive|       Poor|\n| 10|       B| 365.6|2020-10-30|  Active|       Poor|\n| 11|       C|310.57|2023-08-09|  Active|    Average|\n| 12|       C|214.94|2022-09-01|Inactive|       Good|\n| 13|       C|467.04|2023-08-16|  Active|  Excellent|\n| 14|       C|434.37|2022-02-21|  Active|    Average|\n| 15|       D| 32.16|2020-02-12|Inactive|  Excellent|\n| 16|       A| 22.92|2022-08-01|  Active|  Excellent|\n| 17|       D|194.47|2020-12-08|  Active|       Good|\n| 18|       D|407.17|2023-09-11|  Active|       Poor|\n| 19|       D|493.77|2021-05-12|  Active|       Good|\n| 20|       C|  83.7|2020-12-29|  Active|  Excellent|\n+---+--------+------+----------+--------+-----------+\nonly showing top 20 rows\n"
     ]
    }
   ],
   "source": [
    "df = spark.read.csv(\"/mnt/rawdata/transformable_data.csv\", header=True,inferSchema=True)\n",
    "df.show()"
   ]
  },
  {
   "cell_type": "code",
   "execution_count": 0,
   "metadata": {
    "application/vnd.databricks.v1+cell": {
     "cellMetadata": {
      "byteLimit": 2048000,
      "rowLimit": 10000
     },
     "inputWidgets": {},
     "nuid": "eb40ba90-fa5f-43ac-9779-6a351010aa48",
     "showTitle": false,
     "tableResultSettingsMap": {},
     "title": ""
    }
   },
   "outputs": [],
   "source": [
    "from pyspark.sql.functions import to_date\n",
    "from pyspark.sql.functions import year, month, dayofmonth\n",
    "\n",
    "df = df.withColumn(\"Year\", year(df[\"Date\"])) \\\n",
    "       .withColumn(\"Month\", month(df[\"Date\"])) \\\n",
    "       .withColumn(\"Day\", dayofmonth(df[\"Date\"]))\n"
   ]
  },
  {
   "cell_type": "code",
   "execution_count": 0,
   "metadata": {
    "application/vnd.databricks.v1+cell": {
     "cellMetadata": {
      "byteLimit": 2048000,
      "rowLimit": 10000
     },
     "inputWidgets": {},
     "nuid": "d2ab1733-f17e-4bf0-95e7-ff0bfd0ab683",
     "showTitle": false,
     "tableResultSettingsMap": {},
     "title": ""
    }
   },
   "outputs": [
    {
     "output_type": "stream",
     "name": "stdout",
     "output_type": "stream",
     "text": [
      "+---+--------+------+----------+--------+-----------+----+-----+---+\n| ID|Category| Value|      Date|  Status|Description|Year|Month|Day|\n+---+--------+------+----------+--------+-----------+----+-----+---+\n|  1|       C| 352.1|2022-03-26|Inactive|    Average|2022|    3| 26|\n|  2|       D|272.69|2024-01-13|Inactive|    Average|2024|    1| 13|\n|  3|       A|161.67|2021-03-29|Inactive|       Good|2021|    3| 29|\n|  4|       C|408.76|2021-09-20|Inactive|  Excellent|2021|    9| 20|\n|  5|       C|345.52|2023-05-29|  Active|    Average|2023|    5| 29|\n|  6|       D| 89.68|2023-03-23|  Active|    Average|2023|    3| 23|\n|  7|       A|456.35|2021-10-26|  Active|       Poor|2021|   10| 26|\n|  8|       A|413.04|2020-01-12|  Active|       Good|2020|    1| 12|\n|  9|       C| 475.4|2023-03-02|Inactive|       Poor|2023|    3|  2|\n| 10|       B| 365.6|2020-10-30|  Active|       Poor|2020|   10| 30|\n| 11|       C|310.57|2023-08-09|  Active|    Average|2023|    8|  9|\n| 12|       C|214.94|2022-09-01|Inactive|       Good|2022|    9|  1|\n| 13|       C|467.04|2023-08-16|  Active|  Excellent|2023|    8| 16|\n| 14|       C|434.37|2022-02-21|  Active|    Average|2022|    2| 21|\n| 15|       D| 32.16|2020-02-12|Inactive|  Excellent|2020|    2| 12|\n| 16|       A| 22.92|2022-08-01|  Active|  Excellent|2022|    8|  1|\n| 17|       D|194.47|2020-12-08|  Active|       Good|2020|   12|  8|\n| 18|       D|407.17|2023-09-11|  Active|       Poor|2023|    9| 11|\n| 19|       D|493.77|2021-05-12|  Active|       Good|2021|    5| 12|\n| 20|       C|  83.7|2020-12-29|  Active|  Excellent|2020|   12| 29|\n+---+--------+------+----------+--------+-----------+----+-----+---+\nonly showing top 20 rows\n"
     ]
    }
   ],
   "source": [
    "df.show()"
   ]
  },
  {
   "cell_type": "code",
   "execution_count": 0,
   "metadata": {
    "application/vnd.databricks.v1+cell": {
     "cellMetadata": {
      "byteLimit": 2048000,
      "rowLimit": 10000
     },
     "inputWidgets": {},
     "nuid": "719cd702-81fc-47a8-ba40-735e71ff9fa5",
     "showTitle": false,
     "tableResultSettingsMap": {},
     "title": ""
    }
   },
   "outputs": [],
   "source": [
    "from pyspark.ml.feature import StringIndexer\n",
    "\n",
    "category_indexer = StringIndexer(inputCol=\"Category\", outputCol=\"CategoryIndex\")\n",
    "status_indexer = StringIndexer(inputCol=\"Status\", outputCol=\"StatusIndex\")\n",
    "\n",
    "df = category_indexer.fit(df).transform(df)\n",
    "df = status_indexer.fit(df).transform(df)\n"
   ]
  },
  {
   "cell_type": "code",
   "execution_count": 0,
   "metadata": {
    "application/vnd.databricks.v1+cell": {
     "cellMetadata": {
      "byteLimit": 2048000,
      "rowLimit": 10000
     },
     "inputWidgets": {},
     "nuid": "0d8e1b8e-dee0-4039-967e-324908cafee0",
     "showTitle": false,
     "tableResultSettingsMap": {},
     "title": ""
    }
   },
   "outputs": [
    {
     "output_type": "stream",
     "name": "stdout",
     "output_type": "stream",
     "text": [
      "+---+--------+------+----------+--------+-----------+----+-----+---+-------------+-----------+\n| ID|Category| Value|      Date|  Status|Description|Year|Month|Day|CategoryIndex|StatusIndex|\n+---+--------+------+----------+--------+-----------+----+-----+---+-------------+-----------+\n|  1|       C| 352.1|2022-03-26|Inactive|    Average|2022|    3| 26|          2.0|        1.0|\n|  2|       D|272.69|2024-01-13|Inactive|    Average|2024|    1| 13|          0.0|        1.0|\n|  3|       A|161.67|2021-03-29|Inactive|       Good|2021|    3| 29|          1.0|        1.0|\n|  4|       C|408.76|2021-09-20|Inactive|  Excellent|2021|    9| 20|          2.0|        1.0|\n|  5|       C|345.52|2023-05-29|  Active|    Average|2023|    5| 29|          2.0|        0.0|\n|  6|       D| 89.68|2023-03-23|  Active|    Average|2023|    3| 23|          0.0|        0.0|\n|  7|       A|456.35|2021-10-26|  Active|       Poor|2021|   10| 26|          1.0|        0.0|\n|  8|       A|413.04|2020-01-12|  Active|       Good|2020|    1| 12|          1.0|        0.0|\n|  9|       C| 475.4|2023-03-02|Inactive|       Poor|2023|    3|  2|          2.0|        1.0|\n| 10|       B| 365.6|2020-10-30|  Active|       Poor|2020|   10| 30|          3.0|        0.0|\n| 11|       C|310.57|2023-08-09|  Active|    Average|2023|    8|  9|          2.0|        0.0|\n| 12|       C|214.94|2022-09-01|Inactive|       Good|2022|    9|  1|          2.0|        1.0|\n| 13|       C|467.04|2023-08-16|  Active|  Excellent|2023|    8| 16|          2.0|        0.0|\n| 14|       C|434.37|2022-02-21|  Active|    Average|2022|    2| 21|          2.0|        0.0|\n| 15|       D| 32.16|2020-02-12|Inactive|  Excellent|2020|    2| 12|          0.0|        1.0|\n| 16|       A| 22.92|2022-08-01|  Active|  Excellent|2022|    8|  1|          1.0|        0.0|\n| 17|       D|194.47|2020-12-08|  Active|       Good|2020|   12|  8|          0.0|        0.0|\n| 18|       D|407.17|2023-09-11|  Active|       Poor|2023|    9| 11|          0.0|        0.0|\n| 19|       D|493.77|2021-05-12|  Active|       Good|2021|    5| 12|          0.0|        0.0|\n| 20|       C|  83.7|2020-12-29|  Active|  Excellent|2020|   12| 29|          2.0|        0.0|\n+---+--------+------+----------+--------+-----------+----+-----+---+-------------+-----------+\nonly showing top 20 rows\n"
     ]
    }
   ],
   "source": [
    "df.show()"
   ]
  },
  {
   "cell_type": "code",
   "execution_count": 0,
   "metadata": {
    "application/vnd.databricks.v1+cell": {
     "cellMetadata": {
      "byteLimit": 2048000,
      "rowLimit": 10000
     },
     "inputWidgets": {},
     "nuid": "52c551d6-9ee1-47d3-835e-68b95ae412f3",
     "showTitle": false,
     "tableResultSettingsMap": {},
     "title": ""
    }
   },
   "outputs": [],
   "source": [
    "from pyspark.sql.functions import when\n",
    "\n",
    "df = df.withColumn(\"Description\", \n",
    "                   when(df[\"Description\"] == \"Excellent\", \"Very Good\")\n",
    "                   .when(df[\"Description\"] == \"Poor\", \"Needs Improvement\")\n",
    "                   .otherwise(df[\"Description\"]))\n"
   ]
  },
  {
   "cell_type": "code",
   "execution_count": 0,
   "metadata": {
    "application/vnd.databricks.v1+cell": {
     "cellMetadata": {
      "byteLimit": 2048000,
      "rowLimit": 10000
     },
     "inputWidgets": {},
     "nuid": "60a5a9af-aafe-435b-ae9a-8a563ef7c4ee",
     "showTitle": false,
     "tableResultSettingsMap": {},
     "title": ""
    }
   },
   "outputs": [
    {
     "output_type": "stream",
     "name": "stdout",
     "output_type": "stream",
     "text": [
      "+---+--------+------+----------+--------+-----------------+----+-----+---+-------------+-----------+\n| ID|Category| Value|      Date|  Status|      Description|Year|Month|Day|CategoryIndex|StatusIndex|\n+---+--------+------+----------+--------+-----------------+----+-----+---+-------------+-----------+\n|  1|       C| 352.1|2022-03-26|Inactive|          Average|2022|    3| 26|          2.0|        1.0|\n|  2|       D|272.69|2024-01-13|Inactive|          Average|2024|    1| 13|          0.0|        1.0|\n|  3|       A|161.67|2021-03-29|Inactive|             Good|2021|    3| 29|          1.0|        1.0|\n|  4|       C|408.76|2021-09-20|Inactive|        Very Good|2021|    9| 20|          2.0|        1.0|\n|  5|       C|345.52|2023-05-29|  Active|          Average|2023|    5| 29|          2.0|        0.0|\n|  6|       D| 89.68|2023-03-23|  Active|          Average|2023|    3| 23|          0.0|        0.0|\n|  7|       A|456.35|2021-10-26|  Active|Needs Improvement|2021|   10| 26|          1.0|        0.0|\n|  8|       A|413.04|2020-01-12|  Active|             Good|2020|    1| 12|          1.0|        0.0|\n|  9|       C| 475.4|2023-03-02|Inactive|Needs Improvement|2023|    3|  2|          2.0|        1.0|\n| 10|       B| 365.6|2020-10-30|  Active|Needs Improvement|2020|   10| 30|          3.0|        0.0|\n| 11|       C|310.57|2023-08-09|  Active|          Average|2023|    8|  9|          2.0|        0.0|\n| 12|       C|214.94|2022-09-01|Inactive|             Good|2022|    9|  1|          2.0|        1.0|\n| 13|       C|467.04|2023-08-16|  Active|        Very Good|2023|    8| 16|          2.0|        0.0|\n| 14|       C|434.37|2022-02-21|  Active|          Average|2022|    2| 21|          2.0|        0.0|\n| 15|       D| 32.16|2020-02-12|Inactive|        Very Good|2020|    2| 12|          0.0|        1.0|\n| 16|       A| 22.92|2022-08-01|  Active|        Very Good|2022|    8|  1|          1.0|        0.0|\n| 17|       D|194.47|2020-12-08|  Active|             Good|2020|   12|  8|          0.0|        0.0|\n| 18|       D|407.17|2023-09-11|  Active|Needs Improvement|2023|    9| 11|          0.0|        0.0|\n| 19|       D|493.77|2021-05-12|  Active|             Good|2021|    5| 12|          0.0|        0.0|\n| 20|       C|  83.7|2020-12-29|  Active|        Very Good|2020|   12| 29|          2.0|        0.0|\n+---+--------+------+----------+--------+-----------------+----+-----+---+-------------+-----------+\nonly showing top 20 rows\n"
     ]
    }
   ],
   "source": [
    "df.show()"
   ]
  },
  {
   "cell_type": "code",
   "execution_count": 0,
   "metadata": {
    "application/vnd.databricks.v1+cell": {
     "cellMetadata": {
      "byteLimit": 2048000,
      "rowLimit": 10000
     },
     "inputWidgets": {},
     "nuid": "136c8a23-be4f-4ac6-a332-092ed6602d67",
     "showTitle": false,
     "tableResultSettingsMap": {},
     "title": ""
    }
   },
   "outputs": [],
   "source": [
    "df.write.mode(\"append\").csv(\"/mnt/transformeddata\")"
   ]
  },
  {
   "cell_type": "code",
   "execution_count": 0,
   "metadata": {
    "application/vnd.databricks.v1+cell": {
     "cellMetadata": {
      "byteLimit": 2048000,
      "rowLimit": 10000
     },
     "inputWidgets": {},
     "nuid": "1e1daeee-2d45-4450-afeb-0686073b6652",
     "showTitle": false,
     "tableResultSettingsMap": {},
     "title": ""
    }
   },
   "outputs": [
    {
     "output_type": "execute_result",
     "data": {
      "text/plain": [
       "True"
      ]
     },
     "execution_count": 20,
     "metadata": {},
     "output_type": "execute_result"
    }
   ],
   "source": [
    "configs = {\n",
    "    \"fs.azure.account.key.storagedatafiles**.blob.core.windows.net\": \"*********\"\n",
    "}\n",
    "\n",
    "dbutils.fs.mount(\n",
    "    source=\"wasbs://transformeddata@storagedatafiles**.blob.core.windows.net/\",\n",
    "    mount_point=\"/mnt/transformeddata\",\n",
    "    extra_configs=configs\n",
    ")\n"
   ]
  },
  {
   "cell_type": "code",
   "execution_count": 0,
   "metadata": {
    "application/vnd.databricks.v1+cell": {
     "cellMetadata": {
      "byteLimit": 2048000,
      "rowLimit": 10000
     },
     "inputWidgets": {},
     "nuid": "f9f7497a-6943-434f-81ee-035cd2178f47",
     "showTitle": false,
     "tableResultSettingsMap": {},
     "title": ""
    }
   },
   "outputs": [],
   "source": [
    "sf_options = {\n",
    "    \"sfURL\": \"https://****-****.snowflakecomputing.com\",\n",
    "    \"sfDatabase\": \"FIRST_DB\",\n",
    "    \"sfSchema\": \"PUBLIC\",\n",
    "    \"sfWarehouse\": \"COMPUTE_WH\",\n",
    "    \"sfRole\": \"ACCOUNTADMIN\",\n",
    "    \"sfUser\": \"***\",\n",
    "    \"sfPassword\": \"***\"\n",
    "}"
   ]
  },
  {
   "cell_type": "code",
   "execution_count": 0,
   "metadata": {
    "application/vnd.databricks.v1+cell": {
     "cellMetadata": {
      "byteLimit": 2048000,
      "rowLimit": 10000
     },
     "inputWidgets": {},
     "nuid": "a10d3201-54e1-4fad-998d-83c7852ad592",
     "showTitle": false,
     "tableResultSettingsMap": {},
     "title": ""
    }
   },
   "outputs": [],
   "source": [
    "df.write.format(\"snowflake\").options(**sf_options).mode(\"append\").option(\"dbtable\", \"transformable_data\").save()"
   ]
  }
 ],
 "metadata": {
  "application/vnd.databricks.v1+notebook": {
   "computePreferences": null,
   "dashboards": [],
   "environmentMetadata": {
    "base_environment": "",
    "environment_version": "2"
   },
   "language": "python",
   "notebookMetadata": {
    "pythonIndentUnit": 4
   },
   "notebookName": "AzureBlob-Databricks-Snowflake",
   "widgets": {}
  },
  "language_info": {
   "name": "python"
  }
 },
 "nbformat": 4,
 "nbformat_minor": 0
}